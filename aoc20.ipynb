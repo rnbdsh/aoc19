{
 "cells": [
  {
   "cell_type": "code",
   "execution_count": 3,
   "metadata": {},
   "outputs": [],
   "source": [
    "from aocd import submit, get_data\n",
    "from typing import List\n",
    "from functools import reduce, lru_cache\n",
    "import itertools\n",
    "import numpy as np\n",
    "import pandas as pd\n",
    "import re\n",
    "from collections import Counter\n",
    "import networkx as nx\n",
    "\n",
    "\n",
    "def str2intList(s: str) -> List[int]:  # str2intList(\"2\\n3\") -> [2,3]\n",
    "    return [int(x) for x in s.strip().split(\"\\n\")]\n",
    "\n",
    "def imag2tup(i: complex) -> tuple: # 1+2j -> (1, 2)\n",
    "    return (int(i.real), int(i.imag))\n",
    "\n",
    "def tup2imag(t: tuple) -> complex:\n",
    "    return t[0] + t[1] * 1j\n",
    "\n",
    "def _generator(method):\n",
    "    def annotation(day, quiet=True, printdata=False):\n",
    "        def solver(solve):\n",
    "            part = 'ab'[method]\n",
    "            if(data[day]):\n",
    "                esol = solve(data[day], method=method)\n",
    "                print(f\"Ex. {day}{part}\", esol, sep=\"\\t\")\n",
    "            sol = solve(get_data(day=day), method=method)\n",
    "            print(f\"Lvl {day}{part}\", sol, sep=\"\\t\")\n",
    "            submit(sol, part, day=day, quiet=quiet)\n",
    "            return solve # return the original function, so you can put another annotation on it\n",
    "        return solver # \n",
    "    return annotation\n",
    "\n",
    "level_a, level_b = _generator(0), _generator(1)\n",
    "\n",
    "data = ['',\n",
    "'1721\\n979\\n366\\n299\\n675\\n1456',\n",
    "'1-3 a: abcde\\n1-3 b: cdefg\\n2-9 c: ccccccccc',\n",
    "'..##.......\\n#...#...#..\\n.#....#..#.\\n..#.#...#.#\\n.#...##..#.\\n..#.##.....\\n.#.#.#....#\\n.#........#\\n#.##...#...\\n#...##....#\\n.#..#...#.#',\n",
    "'ecl:gry pid:860033327 eyr:2020 hcl:#fffffd\\nbyr:1937 iyr:2017 cid:147 hgt:183cm\\n\\niyr:2013 ecl:amb cid:350 eyr:2023 pid:028048884\\nhcl:#cfa07d byr:1929\\n\\nhcl:#ae17e1 iyr:2013\\neyr:2024\\necl:brn pid:760753108 byr:1931\\nhgt:179cm\\n\\nhcl:#cfa07d eyr:2025 pid:166559648\\niyr:2011 ecl:brn hgt:59in\\neyr:1972 cid:100\\nhcl:#18171d ecl:amb hgt:170 pid:186cm iyr:2018 byr:1926\\n\\niyr:2019\\nhcl:#602927 eyr:1967 hgt:170cm\\necl:grn pid:012533040 byr:1946\\n\\nhcl:dab227 iyr:2012\\necl:brn hgt:182cm pid:021572410 eyr:2020 byr:1992 cid:277\\n\\nhgt:59cm ecl:zzz\\neyr:2038 hcl:74454a iyr:2023\\npid:3556412378 byr:2007\\npid:087499704 hgt:74in ecl:grn iyr:2012 eyr:2030 byr:1980\\nhcl:#623a2f\\n\\neyr:2029 ecl:blu cid:129 byr:1989\\niyr:2014 pid:896056539 hcl:#a97842 hgt:165cm\\n\\nhcl:#888785\\nhgt:164cm byr:2001 iyr:2015 cid:88\\npid:545766238 ecl:hzl\\neyr:2022\\n\\niyr:2010 hgt:158cm hcl:#b6652a ecl:blu byr:1944 eyr:2021 pid:093154719',\n",
    "'FBFBBFFRLR',\n",
    "'abc\\n\\na\\nb\\nc\\n\\nab\\nac\\n\\na\\na\\na\\na\\n\\nb',\n",
    "'light red bags contain 1 bright white bag, 2 muted yellow bags.\\ndark orange bags contain 3 bright white bags, 4 muted yellow bags.\\nbright white bags contain 1 shiny gold bag.\\nmuted yellow bags contain 2 shiny gold bags, 9 faded blue bags.\\nshiny gold bags contain 1 dark olive bag, 2 vibrant plum bags.\\ndark olive bags contain 3 faded blue bags, 4 dotted black bags.\\nvibrant plum bags contain 5 faded blue bags, 6 dotted black bags.\\nfaded blue bags contain no other bags.\\ndotted black bags contain no other bags.',\n",
    "'nop +0\\nacc +1\\njmp +4\\nacc +3\\njmp -3\\nacc -99\\nacc +1\\njmp -4\\nacc +6',\n",
    "'35\\n20\\n15\\n25\\n47\\n40\\n62\\n55\\n65\\n95\\n102\\n117\\n150\\n182\\n127\\n219\\n299\\n277\\n309\\n576',\n",
    "'16\\n10\\n15\\n5\\n1\\n11\\n7\\n19\\n6\\n12\\n4', '', '', ''];"
   ]
  },
  {
   "cell_type": "code",
   "execution_count": 2,
   "metadata": {},
   "outputs": [
    {
     "name": "stdout",
     "output_type": "stream",
     "text": [
      "Ex. 1a\t514579\n",
      "Lvl 1a\t996996\n",
      "Ex. 1b\t241861950\n",
      "Lvl 1b\t9210402\n"
     ]
    }
   ],
   "source": [
    "@level_b(1)\n",
    "@level_a(1)\n",
    "def solve(data, method=0):\n",
    "    data = sorted(str2intList(data))\n",
    "    for line in itertools.product(data, repeat=method+2):\n",
    "        if np.sum(line) == 2020:\n",
    "            return np.prod(line)"
   ]
  },
  {
   "cell_type": "code",
   "execution_count": 3,
   "metadata": {},
   "outputs": [
    {
     "name": "stdout",
     "output_type": "stream",
     "text": [
      "Ex. 2a\t2\n",
      "Lvl 2a\t519\n",
      "Ex. 2b\t1\n",
      "Lvl 2b\t708\n"
     ]
    }
   ],
   "source": [
    "@level_b(2)\n",
    "@level_a(2)\n",
    "def solve(data, method):\n",
    "    cnt = 0\n",
    "    for line in data.split(\"\\n\"):\n",
    "        nr, letter, pw = line.split(\" \")\n",
    "        letter = letter[0]\n",
    "        start, end = map(int, nr.split(\"-\"))\n",
    "        if method == 0:\n",
    "            cnt += pw.count(letter[0]) in range(int(start), int(end)+1)\n",
    "        else:\n",
    "            cnt += (pw[start-1]+pw[end-1]).count(letter) == 1\n",
    "    return cnt"
   ]
  },
  {
   "cell_type": "code",
   "execution_count": 4,
   "metadata": {},
   "outputs": [
    {
     "name": "stdout",
     "output_type": "stream",
     "text": [
      "Ex. 3a\t7\n",
      "Lvl 3a\t214\n",
      "Ex. 3b\t336\n",
      "Lvl 3b\t8336352024\n"
     ]
    }
   ],
   "source": [
    "@level_b(3)\n",
    "@level_a(3)\n",
    "def solve(data, method=0):\n",
    "    def sol(data, mov):\n",
    "        d = np.array(list(map(list, data.split(\"\\n\")))) == '#'\n",
    "        pos = cnt = x = 0\n",
    "        while True:\n",
    "            pos += mov\n",
    "            x, y = imag2tup(pos)\n",
    "            if x >= d.shape[0]:\n",
    "                return cnt\n",
    "            cnt += d[x, y % d.shape[1]]\n",
    "    \n",
    "    if method:\n",
    "        slopes = [1+1j, 1+3j, 1+5j, 1+7j, 2+1j]\n",
    "        return np.prod([sol(data, mov=mov) for mov in slopes])\n",
    "    else:\n",
    "        return sol(data, mov=1+3j)"
   ]
  },
  {
   "cell_type": "code",
   "execution_count": 5,
   "metadata": {},
   "outputs": [
    {
     "name": "stdout",
     "output_type": "stream",
     "text": [
      "Ex. 4a\t4\n",
      "Lvl 4a\t125\n",
      "Ex. 4b\t6\n",
      "Lvl 4b\t116\n"
     ]
    }
   ],
   "source": [
    "@level_b(4)\n",
    "@level_a(4)\n",
    "def solve(data, method=0):\n",
    "    ctr = 0\n",
    "    ALLOWED_DICT = {\n",
    "    \"byr\": lambda a: int(a) in range(1920, 2003), # (Birth Year) - four digits; at least 1920 and at most 2002.\n",
    "    \"iyr\": lambda a: int(a) in range(2010, 2021), # (Issue Year) - four digits; at least 2010 and at most 2020.\n",
    "    \"eyr\": lambda a: int(a) in range(2020, 2031), # (Expiration Year) - four digits; at least 2020 and at most 2030.\n",
    "    \"hgt\": lambda a: (len(a) > 2) and (a[-2:] == \"cm\" and int(a[:-2]) in range(150, 194)) \n",
    "        or (a[-2:] == \"in\" and int(a[:-2]) in range(59, 77)), #(Height) - a number followed by either cm or in:        If cm, the number must be at least 150 and at most 193.        If in, the number must be at least 59 and at most 76.\n",
    "    \"hcl\": lambda a: len(a) == 7 and a[0] == \"#\" and set(a[1:]).issubset(set(\"0123456789abcdef\")), # (Hair Color) - a # followed by exactly six characters 0-9 or a-f.\n",
    "    \"ecl\": lambda a: a in [\"amb\", \"blu\", \"brn\", \"gry\", \"grn\", \"hzl\", \"oth\"], # (Eye Color) - exactly one of: amb blu brn gry grn hzl oth.\n",
    "    \"pid\": lambda a: len(a) == 9 and set(a).issubset(set(\"0123456789\")), # (Passport ID) - a nine-digit number, including leading zeroes.\n",
    "    }\n",
    "    for line in data.split(\"\\n\\n\"):\n",
    "        ut = {}\n",
    "        for token in re.split(\"[ \\n]+\", line):\n",
    "            k, v = token.split(\":\")\n",
    "            ut[k] = v\n",
    "        if method: # part b\n",
    "            stats = [k in ut and v(ut[k]) for k, v in ALLOWED_DICT.items()]\n",
    "            ctr += all(stats)\n",
    "        else: # part a\n",
    "            ctr += set(ut).issubset(set(ALLOWED_DICT))\n",
    "    return ctr"
   ]
  },
  {
   "cell_type": "code",
   "execution_count": 6,
   "metadata": {},
   "outputs": [
    {
     "name": "stdout",
     "output_type": "stream",
     "text": [
      "Ex. 5a\t357\n",
      "Lvl 5a\t801\n",
      "Ex. 5b\tNone\n",
      "Lvl 5b\t597\n"
     ]
    }
   ],
   "source": [
    "@level_b(5)\n",
    "@level_a(5)\n",
    "def solve(data, method):\n",
    "    data = data.replace(\"F\", \"0\").replace(\"B\", \"1\").replace(\"L\", \"0\").replace(\"R\", \"1\")\n",
    "    data = [int(d, 2) for d in data.split(\"\\n\")]\n",
    "    if method:\n",
    "        if len(data) > 1:\n",
    "            return (set(range(min(data), max(data))) - set(data)).pop()\n",
    "    else:\n",
    "        return max(data)"
   ]
  },
  {
   "cell_type": "code",
   "execution_count": 7,
   "metadata": {},
   "outputs": [
    {
     "name": "stdout",
     "output_type": "stream",
     "text": [
      "Ex. 6a\t11\n",
      "Lvl 6a\t6416\n",
      "Ex. 6b\t6\n",
      "Lvl 6b\t3050\n"
     ]
    }
   ],
   "source": [
    "@level_b(6)\n",
    "@level_a(6)\n",
    "def solve(data, method=0):\n",
    "    cnt = 0\n",
    "    for section in data.split(\"\\n\\n\"):\n",
    "        nr_lines = section.count(\"\\n\") + 1\n",
    "        if method:\n",
    "            maxcnt = section.count(\"\\n\") + 1\n",
    "            cnt += sum([lcnt == maxcnt and letter != \"\\n\" for letter, lcnt in Counter(section).items()])\n",
    "        else:\n",
    "            cnt += len(set(section).difference({\"\\n\"}))\n",
    "    return cnt"
   ]
  },
  {
   "cell_type": "code",
   "execution_count": 8,
   "metadata": {},
   "outputs": [
    {
     "name": "stdout",
     "output_type": "stream",
     "text": [
      "Ex. 7a\t4\n",
      "Lvl 7a\t252\n",
      "Ex. 7b\t32\n",
      "Lvl 7b\t35487\n"
     ]
    }
   ],
   "source": [
    "@level_b(7)\n",
    "@level_a(7)\n",
    "def solve(data, method=0):\n",
    "    def dfs(G, start, factor):\n",
    "        return sum([dfs(G, follower, factor * val[\"cnt\"]) + factor * val[\"cnt\"] \n",
    "                    for follower, val in G[start].items()])\n",
    "\n",
    "    G = nx.DiGraph()\n",
    "    for line in data.split(\"\\n\"):\n",
    "        line = re.sub(\"(bags?)\", \"\", line)\n",
    "        containing, contained = line[:-2].split(\"  contain \")\n",
    "        if not \"no other\" in contained:\n",
    "            for contain in contained.split(\" , \"):\n",
    "                cspl = contain.split(\" \")\n",
    "                cnt = int(cspl[0]) if len(cspl) == 3 else 1\n",
    "                contain = \" \".join(cspl[-2:])\n",
    "                G.add_edge(containing, contain, cnt=cnt)\n",
    "    if method:\n",
    "        return dfs(G, \"shiny gold\", 1)\n",
    "    else:\n",
    "        return len(nx.algorithms.dag.ancestors(G, \"shiny gold\"))        "
   ]
  },
  {
   "cell_type": "code",
   "execution_count": 9,
   "metadata": {},
   "outputs": [
    {
     "name": "stdout",
     "output_type": "stream",
     "text": [
      "Ex. 8a\t5\n",
      "Lvl 8a\t1614\n",
      "Ex. 8b\t8\n",
      "Lvl 8b\t1260\n"
     ]
    }
   ],
   "source": [
    "@level_b(8)\n",
    "@level_a(8)\n",
    "def solve(data, method=0):\n",
    "    def interpret(lines):\n",
    "        seen = set()\n",
    "        acc = ptr = icnt = 0\n",
    "        while True:\n",
    "            # print(ptr, acc, lines[ptr])\n",
    "            if (ptr in seen and method==0) or ptr >= len(lines): return acc\n",
    "            if icnt > 10000 and method: return False\n",
    "            \n",
    "            instr, arg = lines[ptr]\n",
    "            if instr==\"acc\": acc+=int(arg)\n",
    "            elif instr==\"jmp\": ptr+=int(arg)-1 # nullify +=1\n",
    "            \n",
    "            seen.add(ptr)\n",
    "            icnt+=1\n",
    "            ptr+=1\n",
    "            \n",
    "    lines = [line.split(\" \") for line in data.split(\"\\n\")]\n",
    "    if method:\n",
    "        for i in range(len(lines)):\n",
    "            lc = [l[:] for l in lines]\n",
    "            swap = {\"nop\": \"jmp\", \"jmp\": \"nop\", \"acc\": \"acc\"}\n",
    "            lc[i][0] = swap[lc[i][0]]\n",
    "            if lc[i][0] != \"acc\":\n",
    "                res = interpret(lc)\n",
    "                if res is not False:\n",
    "                    return res\n",
    "    return interpret(lines)"
   ]
  },
  {
   "cell_type": "code",
   "execution_count": 10,
   "metadata": {},
   "outputs": [
    {
     "name": "stdout",
     "output_type": "stream",
     "text": [
      "Ex. 9a\t127\n",
      "Lvl 9a\t26134589\n",
      "Ex. 9b\t62\n",
      "Lvl 9b\t3535124\n"
     ]
    }
   ],
   "source": [
    "@level_b(9)\n",
    "@level_a(9)\n",
    "def solve(data, method=0):\n",
    "    d = str2intList(data)\n",
    "    preamble_len = 5 if len(d) == 20 else 25 # if test-set, we have shorter preamble\n",
    "    for i in range(preamble_len, len(d)):\n",
    "        if d[i] not in {sum(tup) for tup in itertools.permutations(d[i-preamble_len:i], 2)}:\n",
    "            if method:\n",
    "                number_to_find = d[i]\n",
    "                break\n",
    "            return d[i] # method 0 returns here\n",
    "    for i in range(len(d)):\n",
    "        for lookback in range(i+1):\n",
    "            sub_array = d[i-lookback:i]\n",
    "            if sum(sub_array) == number_to_find:\n",
    "                return min(sub_array) + max(sub_array)"
   ]
  },
  {
   "cell_type": "code",
   "execution_count": 15,
   "metadata": {},
   "outputs": [
    {
     "name": "stdout",
     "output_type": "stream",
     "text": [
      "Counter({1: 7, 3: 5})\n",
      "Ex. 10a\t35\n",
      "Counter({1: 70, 3: 29})\n",
      "Lvl 10a\t2030\n",
      "Ex. 10b\t8\n",
      "Lvl 10b\t42313823813632\n"
     ]
    }
   ],
   "source": [
    "@lru_cache\n",
    "def dfs(g, u, t):\n",
    "    return u==t or sum(dfs(g, c, t) for c in range(u+1, u+4) if c in g)\n",
    "\n",
    "@level_b(10)\n",
    "@level_a(10)\n",
    "def solve(data, method=0):\n",
    "    data = [0]+sorted(str2intList(data))\n",
    "    data += [max(data)+3]\n",
    "    if method:\n",
    "        return dfs(tuple(data), 0, max(data))\n",
    "    else:\n",
    "        cd = Counter(np.diff(data))\n",
    "        return cd[1]*cd[3]"
   ]
  }
 ],
 "metadata": {
  "kernelspec": {
   "display_name": "Python 3",
   "language": "python",
   "name": "python3"
  },
  "language_info": {
   "codemirror_mode": {
    "name": "ipython",
    "version": 3
   },
   "file_extension": ".py",
   "mimetype": "text/x-python",
   "name": "python",
   "nbconvert_exporter": "python",
   "pygments_lexer": "ipython3",
   "version": "3.8.6"
  }
 },
 "nbformat": 4,
 "nbformat_minor": 4
}
