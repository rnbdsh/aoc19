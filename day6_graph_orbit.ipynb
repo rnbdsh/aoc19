{
 "cells": [
  {
   "cell_type": "code",
   "execution_count": 1,
   "metadata": {},
   "outputs": [
    {
     "data": {
      "text/html": [
       "<div>\n",
       "<style scoped>\n",
       "    .dataframe tbody tr th:only-of-type {\n",
       "        vertical-align: middle;\n",
       "    }\n",
       "\n",
       "    .dataframe tbody tr th {\n",
       "        vertical-align: top;\n",
       "    }\n",
       "\n",
       "    .dataframe thead th {\n",
       "        text-align: right;\n",
       "    }\n",
       "</style>\n",
       "<table border=\"1\" class=\"dataframe\">\n",
       "  <thead>\n",
       "    <tr style=\"text-align: right;\">\n",
       "      <th></th>\n",
       "      <th>0</th>\n",
       "      <th>1</th>\n",
       "      <th>2</th>\n",
       "      <th>3</th>\n",
       "      <th>4</th>\n",
       "      <th>5</th>\n",
       "      <th>6</th>\n",
       "      <th>7</th>\n",
       "      <th>8</th>\n",
       "      <th>9</th>\n",
       "      <th>...</th>\n",
       "      <th>1230</th>\n",
       "      <th>1231</th>\n",
       "      <th>1232</th>\n",
       "      <th>1233</th>\n",
       "      <th>1234</th>\n",
       "      <th>1235</th>\n",
       "      <th>1236</th>\n",
       "      <th>1237</th>\n",
       "      <th>1238</th>\n",
       "      <th>1239</th>\n",
       "    </tr>\n",
       "  </thead>\n",
       "  <tbody>\n",
       "    <tr>\n",
       "      <th>0</th>\n",
       "      <td>F4H</td>\n",
       "      <td>TG2</td>\n",
       "      <td>Y6X</td>\n",
       "      <td>TK5</td>\n",
       "      <td>LLY</td>\n",
       "      <td>XL2</td>\n",
       "      <td>BTG</td>\n",
       "      <td>DLS</td>\n",
       "      <td>X4H</td>\n",
       "      <td>JK5</td>\n",
       "      <td>...</td>\n",
       "      <td>J8R</td>\n",
       "      <td>85X</td>\n",
       "      <td>6BV</td>\n",
       "      <td>YCZ</td>\n",
       "      <td>56X</td>\n",
       "      <td>697</td>\n",
       "      <td>H8S</td>\n",
       "      <td>9YL</td>\n",
       "      <td>FLW</td>\n",
       "      <td>DT1</td>\n",
       "    </tr>\n",
       "    <tr>\n",
       "      <th>1</th>\n",
       "      <td>7LQ</td>\n",
       "      <td>G6N</td>\n",
       "      <td>5MP</td>\n",
       "      <td>5KN</td>\n",
       "      <td>WKD</td>\n",
       "      <td>94R</td>\n",
       "      <td>PQ1</td>\n",
       "      <td>LR5</td>\n",
       "      <td>C93</td>\n",
       "      <td>WB1</td>\n",
       "      <td>...</td>\n",
       "      <td>LL7</td>\n",
       "      <td>C6Z</td>\n",
       "      <td>BRB</td>\n",
       "      <td>D3V</td>\n",
       "      <td>ZZC</td>\n",
       "      <td>C74</td>\n",
       "      <td>MKK</td>\n",
       "      <td>G6S</td>\n",
       "      <td>NJS</td>\n",
       "      <td>5Y2</td>\n",
       "    </tr>\n",
       "  </tbody>\n",
       "</table>\n",
       "<p>2 rows × 1240 columns</p>\n",
       "</div>"
      ],
      "text/plain": [
       "  0    1    2    3    4    5    6    7    8    9     ... 1230 1231 1232 1233  \\\n",
       "0  F4H  TG2  Y6X  TK5  LLY  XL2  BTG  DLS  X4H  JK5  ...  J8R  85X  6BV  YCZ   \n",
       "1  7LQ  G6N  5MP  5KN  WKD  94R  PQ1  LR5  C93  WB1  ...  LL7  C6Z  BRB  D3V   \n",
       "\n",
       "  1234 1235 1236 1237 1238 1239  \n",
       "0  56X  697  H8S  9YL  FLW  DT1  \n",
       "1  ZZC  C74  MKK  G6S  NJS  5Y2  \n",
       "\n",
       "[2 rows x 1240 columns]"
      ]
     },
     "execution_count": 1,
     "metadata": {},
     "output_type": "execute_result"
    }
   ],
   "source": [
    "import networkx as nx\n",
    "import pandas as pd\n",
    "import aocd\n",
    "parse = lambda data: [d.split(\")\") for d in data.split(\"\\n\")]\n",
    "data = parse(aocd.get_data())\n",
    "pd.DataFrame(data).T # debug statement"
   ]
  },
  {
   "cell_type": "code",
   "execution_count": 2,
   "metadata": {},
   "outputs": [
    {
     "name": "stderr",
     "output_type": "stream",
     "text": [
      "answer a: 158090\n",
      "submitting for part b (part a is already completed)\n",
      "posting 158090 to https://adventofcode.com/2019/day/6/answer (part b) token=...2749\n"
     ]
    },
    {
     "name": "stdout",
     "output_type": "stream",
     "text": [
      "\u001b[33mYou don't seem to be solving the right level.  Did you already complete it? [Return to Day 6]\u001b[0m\n"
     ]
    },
    {
     "data": {
      "text/plain": [
       "<Response [200]>"
      ]
     },
     "execution_count": 2,
     "metadata": {},
     "output_type": "execute_result"
    }
   ],
   "source": [
    "def process(data):\n",
    "    g = nx.DiGraph(data)\n",
    "    # print(g.nodes, g.edges)\n",
    "    return sum([len(nx.descendants(g,n)) for n in g.nodes])\n",
    "\n",
    "assert process(parse(\"COM)B\\nB)C\\nC)D\\nD)E\\nE)F\\nB)G\\nG)H\\nD)I\\nE)J\\nJ)K\\nK)L\")) == 42\n",
    "\n",
    "aocd.submit(day=6, answer=process(data))"
   ]
  },
  {
   "cell_type": "code",
   "execution_count": 3,
   "metadata": {},
   "outputs": [
    {
     "name": "stderr",
     "output_type": "stream",
     "text": [
      "answer a: 158090\n",
      "submitting for part b (part a is already completed)\n",
      "posting 241 to https://adventofcode.com/2019/day/6/answer (part b) token=...2749\n"
     ]
    },
    {
     "name": "stdout",
     "output_type": "stream",
     "text": [
      "\u001b[33mYou don't seem to be solving the right level.  Did you already complete it? [Return to Day 6]\u001b[0m\n"
     ]
    },
    {
     "data": {
      "text/plain": [
       "<Response [200]>"
      ]
     },
     "execution_count": 3,
     "metadata": {},
     "output_type": "execute_result"
    }
   ],
   "source": [
    "def process2(data): \n",
    "    g = nx.Graph(data)\n",
    "    return nx.shortest_path_length(g,source='YOU',target='SAN') - 2  # don't count first and last\n",
    "\n",
    "assert process2(parse('COM)B\\nB)C\\nC)D\\nD)E\\nE)F\\nB)G\\nG)H\\nD)I\\nE)J\\nJ)K\\nK)L\\nK)YOU\\nI)SAN')) == 4\n",
    "\n",
    "aocd.submit(day=6, answer=process2(data))"
   ]
  }
 ],
 "metadata": {
  "kernelspec": {
   "display_name": "Python 3",
   "language": "python",
   "name": "python3"
  },
  "language_info": {
   "codemirror_mode": {
    "name": "ipython",
    "version": 3
   },
   "file_extension": ".py",
   "mimetype": "text/x-python",
   "name": "python",
   "nbconvert_exporter": "python",
   "pygments_lexer": "ipython3",
   "version": "3.8.0"
  }
 },
 "nbformat": 4,
 "nbformat_minor": 2
}
