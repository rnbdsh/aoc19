{
 "cells": [
  {
   "cell_type": "code",
   "execution_count": 1,
   "metadata": {},
   "outputs": [
    {
     "data": {
      "text/html": [
       "<div>\n",
       "<style scoped>\n",
       "    .dataframe tbody tr th:only-of-type {\n",
       "        vertical-align: middle;\n",
       "    }\n",
       "\n",
       "    .dataframe tbody tr th {\n",
       "        vertical-align: top;\n",
       "    }\n",
       "\n",
       "    .dataframe thead th {\n",
       "        text-align: right;\n",
       "    }\n",
       "</style>\n",
       "<table border=\"1\" class=\"dataframe\">\n",
       "  <thead>\n",
       "    <tr style=\"text-align: right;\">\n",
       "      <th></th>\n",
       "      <th>0</th>\n",
       "    </tr>\n",
       "  </thead>\n",
       "  <tbody>\n",
       "    <tr>\n",
       "      <th>0</th>\n",
       "      <td>3</td>\n",
       "    </tr>\n",
       "    <tr>\n",
       "      <th>1</th>\n",
       "      <td>225</td>\n",
       "    </tr>\n",
       "    <tr>\n",
       "      <th>2</th>\n",
       "      <td>1</td>\n",
       "    </tr>\n",
       "    <tr>\n",
       "      <th>3</th>\n",
       "      <td>225</td>\n",
       "    </tr>\n",
       "    <tr>\n",
       "      <th>4</th>\n",
       "      <td>6</td>\n",
       "    </tr>\n",
       "    <tr>\n",
       "      <th>...</th>\n",
       "      <td>...</td>\n",
       "    </tr>\n",
       "    <tr>\n",
       "      <th>673</th>\n",
       "      <td>223</td>\n",
       "    </tr>\n",
       "    <tr>\n",
       "      <th>674</th>\n",
       "      <td>4</td>\n",
       "    </tr>\n",
       "    <tr>\n",
       "      <th>675</th>\n",
       "      <td>223</td>\n",
       "    </tr>\n",
       "    <tr>\n",
       "      <th>676</th>\n",
       "      <td>99</td>\n",
       "    </tr>\n",
       "    <tr>\n",
       "      <th>677</th>\n",
       "      <td>226</td>\n",
       "    </tr>\n",
       "  </tbody>\n",
       "</table>\n",
       "<p>678 rows × 1 columns</p>\n",
       "</div>"
      ],
      "text/plain": [
       "       0\n",
       "0      3\n",
       "1    225\n",
       "2      1\n",
       "3    225\n",
       "4      6\n",
       "..   ...\n",
       "673  223\n",
       "674    4\n",
       "675  223\n",
       "676   99\n",
       "677  226\n",
       "\n",
       "[678 rows x 1 columns]"
      ]
     },
     "execution_count": 1,
     "metadata": {},
     "output_type": "execute_result"
    }
   ],
   "source": [
    "import numpy as np\n",
    "import networkx as nx\n",
    "import pandas as pd\n",
    "import aocd\n",
    "from copy import copy\n",
    "from collections import defaultdict\n",
    "OUTPUTS = []\n",
    "data = [int(d) for d in aocd.get_data().split(\",\")]\n",
    "pd.DataFrame(data)"
   ]
  },
  {
   "cell_type": "code",
   "execution_count": 4,
   "metadata": {},
   "outputs": [],
   "source": [
    "def split_parametermode(i: int):\n",
    "    instr = i%100\n",
    "    m1 = (i//100)%10\n",
    "    m2 = (i//1000)%10\n",
    "    m3 = (i//10000)%10\n",
    "    return [instr, m1, m2, m3]\n",
    "\n",
    "def process(data, inp=[], debug=False):\n",
    "    ins_size = {1: 4, 2: 4, 3: 2, 4: 2, 5: 0, 6: 0, 7: 4, 8: 4, 99: 0}\n",
    "    data=copy(data)\n",
    "    ptr = 0\n",
    "    global OUTPUTS\n",
    "    while ptr < len(data):\n",
    "        ins,p1m,p2m,p3m = split_parametermode(data[ptr])\n",
    "        if debug:\n",
    "            print(ptr, data[ptr:ptr+4])\n",
    "        \n",
    "        if ins!=99:\n",
    "            p1 = ptr+1 if p1m else data[ptr+1]\n",
    "            p2 = ptr+2 if p2m else data[ptr+2]\n",
    "            p3 = ptr+3 if p3m else data[ptr+3]\n",
    "        \n",
    "        #print(ins,p1,p2,p3)\n",
    "        \n",
    "        if ins == 1:  # add\n",
    "            data[p3] = data[p1] + data[p2]\n",
    "        elif ins == 2:  # mul\n",
    "            data[p3] = data[p1] * data[p2]\n",
    "        elif ins == 3:  # read\n",
    "            data[p1] = inp[0]\n",
    "        elif ins == 4:  # print\n",
    "            print(data[p1])\n",
    "            OUTPUTS += [data[p1]]\n",
    "        elif ins == 5:  # jump-if-true\n",
    "            if data[p1]:\n",
    "                ptr = data[p2]\n",
    "            else:\n",
    "                ptr += 3\n",
    "        elif ins == 6:\n",
    "            if not data[p1]:  # jump-if-false\n",
    "                ptr = data[p2]\n",
    "            else:\n",
    "                ptr += 3\n",
    "        elif ins == 7:\n",
    "            data[p3] = int(data[p1] < data[p2])  # less than\n",
    "        elif ins == 8:\n",
    "            data[p3] = int(data[p1] == data[p2])  # equals\n",
    "        elif data[ptr] == 99:\n",
    "            return data\n",
    "        else:\n",
    "            print(f\"invalid opcode {ins} @ {ptr}\")\n",
    "        ptr += ins_size[ins]\n",
    "\n",
    "assert process([1,9,10,3,2,3,11,0,99,30,40,50]) == [3500,9,10,70,2,3,11,0,99,30,40,50]\n",
    "assert process([2,3,0,3,99]) == [2,3,0,6,99]\n",
    "assert process([1002,4,3,4,33]) == [1002,4,3,4,99]"
   ]
  },
  {
   "cell_type": "code",
   "execution_count": 5,
   "metadata": {},
   "outputs": [
    {
     "name": "stderr",
     "output_type": "stream",
     "text": [
      "answer a: 15314507\n",
      "submitting for part b (part a is already completed)\n"
     ]
    },
    {
     "name": "stdout",
     "output_type": "stream",
     "text": [
      "0\n",
      "0\n",
      "0\n",
      "0\n",
      "0\n",
      "0\n",
      "0\n",
      "0\n",
      "0\n",
      "15314507\n",
      "aocd will not submit that answer again. You've previously guessed 15314507 and the server responded:\n",
      "\u001b[31mThat's not the right answer; your answer is too high.  If you're stuck, make sure you're using the full input data; there are also some general tips on the about page, or you can ask for hints on the subreddit.  Please wait one minute before trying again. (You guessed 15314507.) [Return to Day 5]\u001b[0m\n"
     ]
    }
   ],
   "source": [
    "out = process(data, [1])\n",
    "aocd.submit(answer=OUTPUTS[-1])  # manually picked"
   ]
  },
  {
   "cell_type": "code",
   "execution_count": 6,
   "metadata": {},
   "outputs": [
    {
     "name": "stderr",
     "output_type": "stream",
     "text": [
      "answer a: 15314507\n",
      "submitting for part b (part a is already completed)\n",
      "posting 652726 to https://adventofcode.com/2019/day/5/answer (part b) token=...2749\n"
     ]
    },
    {
     "name": "stdout",
     "output_type": "stream",
     "text": [
      "652726\n",
      "\u001b[33mYou don't seem to be solving the right level.  Did you already complete it? [Return to Day 5]\u001b[0m\n"
     ]
    },
    {
     "data": {
      "text/plain": [
       "<Response [200]>"
      ]
     },
     "execution_count": 6,
     "metadata": {},
     "output_type": "execute_result"
    }
   ],
   "source": [
    "out = process(data, [5])\n",
    "aocd.submit(answer=OUTPUTS[-1])"
   ]
  }
 ],
 "metadata": {
  "kernelspec": {
   "display_name": "Python 3",
   "language": "python",
   "name": "python3"
  },
  "language_info": {
   "codemirror_mode": {
    "name": "ipython",
    "version": 3
   },
   "file_extension": ".py",
   "mimetype": "text/x-python",
   "name": "python",
   "nbconvert_exporter": "python",
   "pygments_lexer": "ipython3",
   "version": "3.8.0"
  }
 },
 "nbformat": 4,
 "nbformat_minor": 2
}
