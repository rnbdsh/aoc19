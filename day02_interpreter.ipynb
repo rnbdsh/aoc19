{
 "cells": [
  {
   "cell_type": "code",
   "execution_count": 1,
   "metadata": {},
   "outputs": [
    {
     "data": {
      "text/html": [
       "<div>\n",
       "<style scoped>\n",
       "    .dataframe tbody tr th:only-of-type {\n",
       "        vertical-align: middle;\n",
       "    }\n",
       "\n",
       "    .dataframe tbody tr th {\n",
       "        vertical-align: top;\n",
       "    }\n",
       "\n",
       "    .dataframe thead th {\n",
       "        text-align: right;\n",
       "    }\n",
       "</style>\n",
       "<table border=\"1\" class=\"dataframe\">\n",
       "  <thead>\n",
       "    <tr style=\"text-align: right;\">\n",
       "      <th></th>\n",
       "      <th>0</th>\n",
       "      <th>1</th>\n",
       "      <th>2</th>\n",
       "      <th>3</th>\n",
       "      <th>4</th>\n",
       "      <th>5</th>\n",
       "      <th>6</th>\n",
       "      <th>7</th>\n",
       "      <th>8</th>\n",
       "      <th>9</th>\n",
       "      <th>...</th>\n",
       "      <th>143</th>\n",
       "      <th>144</th>\n",
       "      <th>145</th>\n",
       "      <th>146</th>\n",
       "      <th>147</th>\n",
       "      <th>148</th>\n",
       "      <th>149</th>\n",
       "      <th>150</th>\n",
       "      <th>151</th>\n",
       "      <th>152</th>\n",
       "    </tr>\n",
       "  </thead>\n",
       "  <tbody>\n",
       "    <tr>\n",
       "      <th>0</th>\n",
       "      <td>1</td>\n",
       "      <td>0</td>\n",
       "      <td>0</td>\n",
       "      <td>3</td>\n",
       "      <td>1</td>\n",
       "      <td>1</td>\n",
       "      <td>2</td>\n",
       "      <td>3</td>\n",
       "      <td>1</td>\n",
       "      <td>3</td>\n",
       "      <td>...</td>\n",
       "      <td>143</td>\n",
       "      <td>1</td>\n",
       "      <td>6</td>\n",
       "      <td>143</td>\n",
       "      <td>0</td>\n",
       "      <td>99</td>\n",
       "      <td>2</td>\n",
       "      <td>14</td>\n",
       "      <td>0</td>\n",
       "      <td>0</td>\n",
       "    </tr>\n",
       "  </tbody>\n",
       "</table>\n",
       "<p>1 rows × 153 columns</p>\n",
       "</div>"
      ],
      "text/plain": [
       "   0    1    2    3    4    5    6    7    8    9    ...  143  144  145  146  \\\n",
       "0    1    0    0    3    1    1    2    3    1    3  ...  143    1    6  143   \n",
       "\n",
       "   147  148  149  150  151  152  \n",
       "0    0   99    2   14    0    0  \n",
       "\n",
       "[1 rows x 153 columns]"
      ]
     },
     "execution_count": 1,
     "metadata": {},
     "output_type": "execute_result"
    }
   ],
   "source": [
    "import numpy as np\n",
    "import networkx as nx\n",
    "import pandas as pd\n",
    "import aocd\n",
    "from copy import copy\n",
    "from collections import defaultdict\n",
    "data = [int(d) for d in aocd.get_data(day=2).split(\",\")]\n",
    "pd.DataFrame(data).T"
   ]
  },
  {
   "cell_type": "code",
   "execution_count": 2,
   "metadata": {},
   "outputs": [],
   "source": [
    "def process(data):\n",
    "    data=copy(data)\n",
    "    for ptr in range(0,len(data),4):\n",
    "        # print(data[ptr:ptr+4]) # debug\n",
    "        if data[ptr] == 1:   data[data[ptr+3]] = data[data[ptr+1]] + data[data[ptr+2]]\n",
    "        elif data[ptr] == 2: data[data[ptr+3]] = data[data[ptr+1]] * data[data[ptr+2]]\n",
    "        elif data[ptr] == 99:return data\n",
    "        else: print(f\"invalid opcode {data[ptr]} @ {ptr}\")\n",
    "\n",
    "assert process([1,9,10,3,2,3,11,0,99,30,40,50]) == [3500,9,10,70,2,3,11,0,99,30,40,50]\n",
    "assert process([2,3,0,3,99]) == [2,3,0,6,99]"
   ]
  },
  {
   "cell_type": "code",
   "execution_count": 3,
   "metadata": {},
   "outputs": [
    {
     "name": "stderr",
     "output_type": "stream",
     "text": [
      "answer a: 5290681\n",
      "submitting for part b (part a is already completed)\n"
     ]
    },
    {
     "name": "stdout",
     "output_type": "stream",
     "text": [
      "5290681\n",
      "aocd will not submit that answer again. You've previously guessed 5290681 and the server responded:\n",
      "\u001b[31mThat's not the right answer; your answer is too high.  If you're stuck, make sure you're using the full input data; there are also some general tips on the about page, or you can ask for hints on the subreddit.  Please wait one minute before trying again. (You guessed 5290681.) [Return to Day 2]\u001b[0m\n"
     ]
    }
   ],
   "source": [
    "data[1] = 12\n",
    "data[2] = 2\n",
    "out = process(data)\n",
    "# out = \",\".join(map(str, out)) # tostring\n",
    "print(out[0])\n",
    "\n",
    "aocd.submit(day=2, answer=out[0])"
   ]
  },
  {
   "cell_type": "code",
   "execution_count": 4,
   "metadata": {},
   "outputs": [
    {
     "name": "stderr",
     "output_type": "stream",
     "text": [
      "answer a: 5290681\n",
      "submitting for part b (part a is already completed)\n",
      "posting 5741 to https://adventofcode.com/2019/day/2/answer (part b) token=...2749\n"
     ]
    },
    {
     "name": "stdout",
     "output_type": "stream",
     "text": [
      "\u001b[33mYou don't seem to be solving the right level.  Did you already complete it? [Return to Day 2]\u001b[0m\n"
     ]
    }
   ],
   "source": [
    "for i in range(100):\n",
    "    for j in range(100):\n",
    "        data[1] = i\n",
    "        data[2] = j\n",
    "        out = process(data)\n",
    "        if out[0] == 19690720:\n",
    "            aocd.submit(day=2, answer=i*100+j)"
   ]
  }
 ],
 "metadata": {
  "kernelspec": {
   "display_name": "Python 3",
   "language": "python",
   "name": "python3"
  },
  "language_info": {
   "codemirror_mode": {
    "name": "ipython",
    "version": 3
   },
   "file_extension": ".py",
   "mimetype": "text/x-python",
   "name": "python",
   "nbconvert_exporter": "python",
   "pygments_lexer": "ipython3",
   "version": "3.8.0"
  }
 },
 "nbformat": 4,
 "nbformat_minor": 2
}
