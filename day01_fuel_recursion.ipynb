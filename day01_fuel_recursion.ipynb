{
 "cells": [
  {
   "cell_type": "code",
   "execution_count": 6,
   "metadata": {},
   "outputs": [
    {
     "data": {
      "text/html": [
       "<div>\n",
       "<style scoped>\n",
       "    .dataframe tbody tr th:only-of-type {\n",
       "        vertical-align: middle;\n",
       "    }\n",
       "\n",
       "    .dataframe tbody tr th {\n",
       "        vertical-align: top;\n",
       "    }\n",
       "\n",
       "    .dataframe thead th {\n",
       "        text-align: right;\n",
       "    }\n",
       "</style>\n",
       "<table border=\"1\" class=\"dataframe\">\n",
       "  <thead>\n",
       "    <tr style=\"text-align: right;\">\n",
       "      <th></th>\n",
       "      <th>0</th>\n",
       "      <th>1</th>\n",
       "      <th>2</th>\n",
       "      <th>3</th>\n",
       "      <th>4</th>\n",
       "      <th>5</th>\n",
       "      <th>6</th>\n",
       "      <th>7</th>\n",
       "      <th>8</th>\n",
       "      <th>9</th>\n",
       "      <th>...</th>\n",
       "      <th>90</th>\n",
       "      <th>91</th>\n",
       "      <th>92</th>\n",
       "      <th>93</th>\n",
       "      <th>94</th>\n",
       "      <th>95</th>\n",
       "      <th>96</th>\n",
       "      <th>97</th>\n",
       "      <th>98</th>\n",
       "      <th>99</th>\n",
       "    </tr>\n",
       "  </thead>\n",
       "  <tbody>\n",
       "    <tr>\n",
       "      <th>0</th>\n",
       "      <td>130541</td>\n",
       "      <td>69856</td>\n",
       "      <td>104618</td>\n",
       "      <td>149406</td>\n",
       "      <td>64500</td>\n",
       "      <td>128553</td>\n",
       "      <td>94958</td>\n",
       "      <td>104788</td>\n",
       "      <td>87642</td>\n",
       "      <td>60597</td>\n",
       "      <td>...</td>\n",
       "      <td>60064</td>\n",
       "      <td>106100</td>\n",
       "      <td>123539</td>\n",
       "      <td>115732</td>\n",
       "      <td>107666</td>\n",
       "      <td>89177</td>\n",
       "      <td>82419</td>\n",
       "      <td>98712</td>\n",
       "      <td>148947</td>\n",
       "      <td>50931</td>\n",
       "    </tr>\n",
       "  </tbody>\n",
       "</table>\n",
       "<p>1 rows × 100 columns</p>\n",
       "</div>"
      ],
      "text/plain": [
       "       0      1       2       3      4       5      6       7      8      9   \\\n",
       "0  130541  69856  104618  149406  64500  128553  94958  104788  87642  60597   \n",
       "\n",
       "   ...     90      91      92      93      94     95     96     97      98  \\\n",
       "0  ...  60064  106100  123539  115732  107666  89177  82419  98712  148947   \n",
       "\n",
       "      99  \n",
       "0  50931  \n",
       "\n",
       "[1 rows x 100 columns]"
      ]
     },
     "execution_count": 6,
     "metadata": {},
     "output_type": "execute_result"
    }
   ],
   "source": [
    "import numpy as np\n",
    "import networkx as nx\n",
    "import pandas as pd\n",
    "import aocd\n",
    "data = aocd.get_data(day=1).split(\"\\n\")\n",
    "pd.DataFrame(data).T"
   ]
  },
  {
   "cell_type": "code",
   "execution_count": 7,
   "metadata": {},
   "outputs": [
    {
     "name": "stderr",
     "output_type": "stream",
     "text": [
      "answer a: 3382284\n",
      "submitting for part b (part a is already completed)\n",
      "posting 3382284 to https://adventofcode.com/2019/day/1/answer (part b) token=...2749\n"
     ]
    },
    {
     "name": "stdout",
     "output_type": "stream",
     "text": [
      "tests succeeded\n"
     ]
    },
    {
     "name": "stderr",
     "output_type": "stream",
     "text": [
      "answer a: 3382284\n",
      "submitting for part b (part a is already completed)\n",
      "posting 5070541 to https://adventofcode.com/2019/day/1/answer (part b) token=...2749\n"
     ]
    },
    {
     "name": "stdout",
     "output_type": "stream",
     "text": [
      "\u001b[33mYou don't seem to be solving the right level.  Did you already complete it? [Return to Day 1]\u001b[0m\n",
      "\u001b[33mYou don't seem to be solving the right level.  Did you already complete it? [Return to Day 1]\u001b[0m\n"
     ]
    },
    {
     "data": {
      "text/plain": [
       "<Response [200]>"
      ]
     },
     "execution_count": 7,
     "metadata": {},
     "output_type": "execute_result"
    }
   ],
   "source": [
    "def req_0(mass):\n",
    "    return mass//3-2\n",
    "\n",
    "def req(mass: int):\n",
    "    fl = []\n",
    "    fl.append(req_0(mass))\n",
    "    while req_0(fl[-1]) > 0:\n",
    "        fl.append(req_0(fl[-1]))\n",
    "    return sum(fl)\n",
    "\n",
    "assert req(12) == 2\n",
    "assert req(100756) == 50346\n",
    "print(\"tests succeeded\")\n",
    "\n",
    "aocd.submit(day=1, answer=sum([req_0(int(line)) for line in data]))\n",
    "aocd.submit(day=1, answer=sum([req  (int(line)) for line in data]))"
   ]
  }
 ],
 "metadata": {
  "kernelspec": {
   "display_name": "Python 3",
   "language": "python",
   "name": "python3"
  },
  "language_info": {
   "codemirror_mode": {
    "name": "ipython",
    "version": 3
   },
   "file_extension": ".py",
   "mimetype": "text/x-python",
   "name": "python",
   "nbconvert_exporter": "python",
   "pygments_lexer": "ipython3",
   "version": "3.8.0"
  }
 },
 "nbformat": 4,
 "nbformat_minor": 2
}
