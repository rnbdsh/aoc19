{
 "cells": [
  {
   "cell_type": "code",
   "execution_count": 1,
   "metadata": {},
   "outputs": [
    {
     "name": "stdout",
     "output_type": "stream",
     "text": [
      "[5, 9, 7, 2, 3, 5, 1, 7, 8, 9, 8, 6, 9, 0, 3, 4, 2, 3, 3, 6, 0, 8, 5, 6, 1, 9, 0, 2, 7, 9, 2, 1, 1, 1, 1, 2, 6, 0, 0, 0, 0, 6, 6, 7, 4, 1, 7, 0, 5, 2, 5, 2, 9, 4, 3, 3, 8, 9, 4, 0, 9, 2, 6, 4, 9, 7, 7, 9, 6, 8, 5, 5, 5, 7, 5, 5, 7, 9, 9, 6, 3, 8, 3, 0, 8, 5, 7, 0, 8, 9, 0, 3, 2, 4, 1, 5, 3, 5, 4, 3, 6, 7, 8, 6, 7, 2, 3, 7, 1, 8, 8, 0, 4, 1, 5, 5, 3, 7, 0, 1, 5, 5, 2, 6, 3, 7, 3, 6, 6, 3, 2, 8, 6, 1, 5, 3, 5, 6, 3, 2, 6, 4, 5, 3, 3, 5, 2, 3, 3, 1, 7, 0, 4, 3, 5, 6, 4, 6, 8, 4, 4, 3, 2, 8, 7, 3, 5, 9, 3, 4, 0, 6, 3, 1, 2, 9, 7, 2, 0, 8, 2, 2, 4, 3, 8, 9, 8, 3, 9, 4, 8, 7, 6, 5, 8, 3, 0, 8, 7, 3, 1, 0, 8, 0, 6, 0, 9, 6, 9, 3, 9, 5, 3, 7, 2, 6, 6, 7, 9, 4, 4, 0, 8, 1, 2, 0, 1, 0, 2, 0, 1, 5, 4, 1, 2, 6, 7, 3, 6, 5, 6, 5, 2, 1, 2, 4, 5, 5, 4, 0, 3, 5, 8, 2, 5, 6, 5, 8, 1, 4, 0, 3, 7, 5, 6, 8, 3, 3, 2, 1, 0, 6, 0, 4, 3, 3, 3, 6, 6, 5, 7, 9, 7, 2, 9, 0, 6, 2, 9, 7, 3, 0, 6, 9, 9, 3, 7, 2, 7, 7, 1, 4, 7, 3, 0, 0, 6, 1, 0, 2, 9, 3, 2, 1, 1, 5, 3, 9, 8, 4, 3, 9, 0, 6, 5, 8, 9, 4, 9, 0, 1, 3, 8, 2, 1, 9, 1, 8, 3, 5, 2, 3, 4, 1, 5, 0, 3, 6, 2, 9, 7, 0, 5, 5, 8, 7, 6, 6, 6, 7, 7, 9, 6, 8, 1, 0, 1, 3, 3, 5, 8, 0, 5, 3, 3, 1, 2, 9, 9, 0, 7, 0, 9, 4, 2, 3, 1, 5, 6, 1, 1, 0, 2, 9, 1, 8, 3, 5, 7, 9, 4, 1, 7, 9, 0, 5, 6, 4, 3, 2, 9, 5, 8, 5, 3, 7, 7, 9, 6, 8, 5, 5, 2, 8, 7, 7, 3, 4, 2, 1, 7, 1, 2, 5, 6, 1, 5, 7, 0, 0, 1, 9, 9, 9, 2, 8, 9, 1, 5, 5, 2, 4, 4, 1, 0, 7, 4, 3, 3, 8, 2, 0, 7, 8, 0, 7, 9, 0, 5, 9, 7, 0, 6, 4, 2, 0, 8, 6, 5, 0, 8, 5, 1, 4, 7, 5, 1, 4, 0, 2, 7, 3, 7, 4, 4, 8, 5, 3, 5, 4, 8, 1, 5, 1, 0, 6, 3, 5, 4, 3, 6, 7, 5, 4, 8, 0, 0, 2, 6, 5, 0, 4, 1, 5, 4, 9, 4, 5, 2, 5, 5, 9, 0, 2, 9, 2, 2, 1, 0, 4, 4, 0, 8, 2, 7, 0, 2, 7, 9, 5, 1, 6, 2, 4, 2, 8, 0, 1, 1, 5, 9, 1, 4, 9, 0, 9, 9, 1, 0, 9, 1, 7, 0, 4, 7, 0, 8, 4, 3, 2, 8, 5, 8, 8, 8, 3, 3, 2, 0, 1, 5, 5, 8, 9, 6, 4, 3, 7, 0, 2, 9, 6, 8, 4, 1, 7, 8, 9, 6, 1, 1, 9, 8, 9, 3, 4, 3, 0, 4, 0, 4, 0, 7, 3, 4, 8, 1, 1, 5, 6, 0, 8, 6, 2, 3, 4, 3, 2, 4, 0, 3, 0, 8, 5, 6, 3, 4, 0, 8, 4]\n"
     ]
    }
   ],
   "source": [
    "import aocd\n",
    "import pandas as pd\n",
    "from numpy import array, tile, repeat, flip, zeros\n",
    "intlist2str = lambda data: \"\".join([str(i) for i in data])  # helper function\n",
    "parse = lambda data: [int(i) for i in data]\n",
    "data = parse(aocd.get_data(day=16))\n",
    "print(data)"
   ]
  },
  {
   "cell_type": "code",
   "execution_count": 2,
   "metadata": {},
   "outputs": [
    {
     "name": "stderr",
     "output_type": "stream",
     "text": [
      "answer a: 17978331\n",
      "submitting for part b (part a is already completed)\n"
     ]
    },
    {
     "name": "stdout",
     "output_type": "stream",
     "text": [
      "aocd will not submit that answer again. You've previously guessed 17978331 and the server responded:\n",
      "\u001b[31mThat's not the right answer; your answer is too low.  If you're stuck, make sure you're using the full input data; there are also some general tips on the about page, or you can ask for hints on the subreddit.  Please wait one minute before trying again. (You guessed 17978331.) [Return to Day 16]\u001b[0m\n"
     ]
    }
   ],
   "source": [
    "def prepare_mul(n):\n",
    "    mul = zeros((n, n), dtype=int)\n",
    "    for i in range(n):\n",
    "        row = repeat([0,1,0,-1], i+1)   # repeat each number i times\n",
    "        row = tile(row, 1+n//len(row))  # then repeat the row until len(row) >= len(data), offset 1, trim to len\n",
    "        mul[i] = row[1:n+1]             # take offset 1, then trim to same length\n",
    "    return mul\n",
    "\n",
    "def process(data, phase=100):\n",
    "    mul = prepare_mul(len(data)) # prepare multiplication matrix\n",
    "    for _ in range(phase):       # run loop\n",
    "        data = abs(mul@data)%10  # multiply every row of data with every row of mul, then take each sum as a row\n",
    "    return intlist2str(data[:8])  # take first 8 as str\n",
    "    \n",
    "assert process(parse(\"12345678\"), phase=4) == \"01029498\"\n",
    "assert process(parse(\"80871224585914546619083218645595\")) == \"24176176\"\n",
    "aocd.submit(day=16, answer=process(parse(data)))"
   ]
  },
  {
   "cell_type": "code",
   "execution_count": 3,
   "metadata": {},
   "outputs": [
    {
     "name": "stderr",
     "output_type": "stream",
     "text": [
      "answer a: 17978331\n",
      "submitting for part b (part a is already completed)\n",
      "posting '19422575' to https://adventofcode.com/2019/day/16/answer (part b) token=...2749\n"
     ]
    },
    {
     "name": "stdout",
     "output_type": "stream",
     "text": [
      "\u001b[33mYou don't seem to be solving the right level.  Did you already complete it? [Return to Day 16]\u001b[0m\n"
     ]
    },
    {
     "data": {
      "text/plain": [
       "<Response [200]>"
      ]
     },
     "execution_count": 3,
     "metadata": {},
     "output_type": "execute_result"
    }
   ],
   "source": [
    "def process(data, phase=100):\n",
    "    offset = int(\"\".join([str(i) for i in data[:7]])) % len(data*10000)\n",
    "    data = flip(array(data*10000, dtype=int))\n",
    "    for i in range(100):\n",
    "        data = data.cumsum() % 10      # calculate cumsum from back to front\n",
    "    # this works because newdata[-1] = data[-1]; data[-2] = data[-2]+newdata[-1]\n",
    "    # because repeat(0,1,0,-1) for high i produces a diagonal matrix\n",
    "    return intlist2str(flip(data)[offset:offset+8])  # take 8 at offset as str\n",
    "\n",
    "assert process(parse(\"03036732577212944063491565474664\")) == \"84462026\"\n",
    "aocd.submit(day=16, answer=process(parse(data)))"
   ]
  }
 ],
 "metadata": {
  "kernelspec": {
   "display_name": "Python 3",
   "language": "python",
   "name": "python3"
  },
  "language_info": {
   "codemirror_mode": {
    "name": "ipython",
    "version": 3
   },
   "file_extension": ".py",
   "mimetype": "text/x-python",
   "name": "python",
   "nbconvert_exporter": "python",
   "pygments_lexer": "ipython3",
   "version": "3.8.0"
  }
 },
 "nbformat": 4,
 "nbformat_minor": 2
}
