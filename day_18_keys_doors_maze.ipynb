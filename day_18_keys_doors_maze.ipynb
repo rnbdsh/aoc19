{
 "cells": [
  {
   "cell_type": "code",
   "execution_count": 215,
   "metadata": {},
   "outputs": [],
   "source": [
    "import numpy as np\n",
    "import networkx as nx\n",
    "import aocd\n",
    "from string import ascii_lowercase as keys\n",
    "from string import ascii_uppercase as doors\n",
    "from collections import defaultdict\n",
    "\n",
    "def create(data: str) -> nx.Graph:\n",
    "    d = np.array(list(map(list,data.split(\"\\n\"))))\n",
    "    g = nx.Graph()\n",
    "    for spos, src in np.ndenumerate(d):\n",
    "        for p in [[1,0], [-1,0], [0, 1], [0, -1]]:\n",
    "            dpos = tuple(np.array(spos)+p)\n",
    "            if dpos[0] in range(d.shape[0]) and dpos[1] in range(d.shape[1]):\n",
    "                dest = d[dpos]\n",
    "                if src != \"#\" and dest != \"#\":\n",
    "                    g.add_edge(spos, dpos, weight=1)\n",
    "                    if src in keys:    g.nodes[spos][\"key\"] = src\n",
    "                    elif src in doors: g.nodes[spos][\"door\"] = src.lower()\n",
    "                    g.nodes[spos][\"typ\"] = src\n",
    "    \n",
    "    # trim graph\n",
    "    for node in g.copy().nodes:\n",
    "        neigh = list(g.neighbors(node))\n",
    "        if len(neigh)==2 and g.nodes[node][\"typ\"] == \".\":\n",
    "            weight = sum([g.edges[(node, n)][\"weight\"] for n in neigh])\n",
    "            g.remove_node(node)\n",
    "            g.add_edge(*neigh, weight=weight)\n",
    "    return g\n",
    "\n",
    "def bfs(data):\n",
    "    # init data\n",
    "    g = create(data)\n",
    "    startpos = [pos for pos, typ in nx.get_node_attributes(g, \"typ\").items() if typ==\"@\"][0]\n",
    "    jobs = [((0, 0, startpos, frozenset()))]\n",
    "    pos_door = nx.get_node_attributes(g, \"door\")\n",
    "    pos_key =  nx.get_node_attributes(g, \"key\")\n",
    "    \n",
    "    # build dict (src) -> (dest, doors_in_way, keys_in_way)\n",
    "    key_dist = defaultdict(list)\n",
    "    for p1, k1 in list(pos_key.items())+[[startpos, \"@\"]]:\n",
    "        for p2, k2 in pos_key.items():\n",
    "            if k1 != k2:\n",
    "                sp = nx.shortest_path(g, p1, p2, weight=\"weight\")\n",
    "                blocked_by = set(sp) & (set(pos_door))\n",
    "                blocked_by = set([pos_door[bb] for bb in blocked_by])\n",
    "                \n",
    "                blocking = set(sp) & set(pos_key) - set([p1,p2])\n",
    "                blocking = set([pos_key[bb] for bb in blocking])\n",
    "                \n",
    "                dist = nx.shortest_path_length(g, p1, p2, weight=\"weight\")\n",
    "                key_dist[k1].append([k2, dist, blocked_by, blocking])\n",
    "    \n",
    "    # assumption: we can't \"walk around doors\"\n",
    "    # and the shortest_path(shortest_path(keys)) is shorter \n",
    "    jobs = {(0, \"@\", frozenset())}\n",
    "    for _ in range(len(pos_key)):  # iterate bfs for number of keys, as we need that many steps\n",
    "        jobs = list(set(  # unique\n",
    "            [(steps+dist, target, keys_hold|set([target]))  # add new dist-target-visited tuples\n",
    "                for steps, start, keys_hold in jobs         # for all current start-tuples\n",
    "                    for target, dist, blocked_by, blocking in key_dist[start]  # for all target-tuples\n",
    "                        if target not in keys_hold          # if target is not already reached\n",
    "                        and not blocked_by - keys_hold      # not blocked by a door without a key\n",
    "                        and not blocking - keys_hold]))     # and not blocked by a key on the \n",
    "    return min([j[0] for j in jobs])\n",
    "    \n",
    "assert bfs(\"\"\"#########\n",
    "#b.A.@.a#\n",
    "#########\"\"\")\n",
    "\n",
    "assert bfs(\"\"\"########################\n",
    "#@..............ac.GI.b#\n",
    "###d#e#f################\n",
    "###A#B#C################\n",
    "###g#h#i################\n",
    "########################\"\"\") == 81"
   ]
  },
  {
   "cell_type": "code",
   "execution_count": 204,
   "metadata": {},
   "outputs": [
    {
     "name": "stderr",
     "output_type": "stream",
     "text": [
      "answer a: 5402\n",
      "submitting for part b (part a is already completed)\n"
     ]
    },
    {
     "name": "stdout",
     "output_type": "stream",
     "text": [
      "aocd will not submit that answer again. You've previously guessed 5402 and the server responded:\n",
      "\u001b[31mThat's not the right answer; your answer is too high.  If you're stuck, make sure you're using the full input data; there are also some general tips on the about page, or you can ask for hints on the subreddit.  Please wait one minute before trying again. (You guessed 5402.) [Return to Day 18]\u001b[0m\n"
     ]
    }
   ],
   "source": [
    "aocd.submit(bfs(aocd.get_data(day=18)), day=18)"
   ]
  }
 ],
 "metadata": {
  "kernelspec": {
   "display_name": "Python 3",
   "language": "python",
   "name": "python3"
  },
  "language_info": {
   "codemirror_mode": {
    "name": "ipython",
    "version": 3
   },
   "file_extension": ".py",
   "mimetype": "text/x-python",
   "name": "python",
   "nbconvert_exporter": "python",
   "pygments_lexer": "ipython3",
   "version": "3.8.0"
  }
 },
 "nbformat": 4,
 "nbformat_minor": 2
}
